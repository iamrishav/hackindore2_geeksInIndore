{
  "nbformat": 4,
  "nbformat_minor": 0,
  "metadata": {
    "colab": {
      "name": "Hackinindore.ipynb",
      "provenance": [],
      "collapsed_sections": []
    },
    "kernelspec": {
      "name": "python3",
      "display_name": "Python 3"
    },
    "accelerator": "GPU"
  },
  "cells": [
    {
      "cell_type": "code",
      "metadata": {
        "id": "AQSVo8CREqZH",
        "colab_type": "code",
        "colab": {}
      },
      "source": [
        "#Importing Libaries\n",
        "import pandas as pd\n",
        "from sklearn.model_selection import train_test_split\n",
        "import numpy as np\n",
        "from sklearn.metrics import accuracy_score\n",
        "import sklearn\n",
        "import matplotlib.pyplot as plt"
      ],
      "execution_count": 0,
      "outputs": []
    },
    {
      "cell_type": "code",
      "metadata": {
        "id": "atYGHpZjVeMB",
        "colab_type": "code",
        "outputId": "7935053d-9527-4310-c3a5-08e02b6defe5",
        "colab": {
          "base_uri": "https://localhost:8080/",
          "height": 417
        }
      },
      "source": [
        "#Importing datasets\n",
        "data=pd.read_csv('/content/drive/My Drive/Harsh.csv')\n",
        "x_data=pd.read_csv('/content/drive/My Drive/final_final2.csv')\n",
        "commodity=pd.read_csv('/content/drive/My Drive/Commodity.csv')\n",
        "data.head()"
      ],
      "execution_count": 0,
      "outputs": [
        {
          "output_type": "execute_result",
          "data": {
            "text/html": [
              "<div>\n",
              "<style scoped>\n",
              "    .dataframe tbody tr th:only-of-type {\n",
              "        vertical-align: middle;\n",
              "    }\n",
              "\n",
              "    .dataframe tbody tr th {\n",
              "        vertical-align: top;\n",
              "    }\n",
              "\n",
              "    .dataframe thead th {\n",
              "        text-align: right;\n",
              "    }\n",
              "</style>\n",
              "<table border=\"1\" class=\"dataframe\">\n",
              "  <thead>\n",
              "    <tr style=\"text-align: right;\">\n",
              "      <th></th>\n",
              "      <th>Sl no.</th>\n",
              "      <th>District Name</th>\n",
              "      <th>Market Name</th>\n",
              "      <th>Commodity</th>\n",
              "      <th>Variety</th>\n",
              "      <th>Grade</th>\n",
              "      <th>Min Price (Rs./Quintal)</th>\n",
              "      <th>Max Price (Rs./Quintal)</th>\n",
              "      <th>Modal Price (Rs./Quintal)</th>\n",
              "      <th>Price Date</th>\n",
              "    </tr>\n",
              "  </thead>\n",
              "  <tbody>\n",
              "    <tr>\n",
              "      <th>0</th>\n",
              "      <td>1</td>\n",
              "      <td>Lucknow</td>\n",
              "      <td>Banthara</td>\n",
              "      <td>Wheat</td>\n",
              "      <td>Dara</td>\n",
              "      <td>FAQ</td>\n",
              "      <td>1800</td>\n",
              "      <td>1850</td>\n",
              "      <td>1840</td>\n",
              "      <td>30 Sep 2019</td>\n",
              "    </tr>\n",
              "    <tr>\n",
              "      <th>1</th>\n",
              "      <td>2</td>\n",
              "      <td>Lucknow</td>\n",
              "      <td>Banthara</td>\n",
              "      <td>Wheat</td>\n",
              "      <td>Dara</td>\n",
              "      <td>FAQ</td>\n",
              "      <td>1800</td>\n",
              "      <td>1850</td>\n",
              "      <td>1840</td>\n",
              "      <td>29 Sep 2019</td>\n",
              "    </tr>\n",
              "    <tr>\n",
              "      <th>2</th>\n",
              "      <td>3</td>\n",
              "      <td>Lucknow</td>\n",
              "      <td>Banthara</td>\n",
              "      <td>Wheat</td>\n",
              "      <td>Dara</td>\n",
              "      <td>FAQ</td>\n",
              "      <td>1800</td>\n",
              "      <td>1850</td>\n",
              "      <td>1840</td>\n",
              "      <td>26 Sep 2019</td>\n",
              "    </tr>\n",
              "    <tr>\n",
              "      <th>3</th>\n",
              "      <td>4</td>\n",
              "      <td>Lucknow</td>\n",
              "      <td>Banthara</td>\n",
              "      <td>Wheat</td>\n",
              "      <td>Dara</td>\n",
              "      <td>FAQ</td>\n",
              "      <td>1800</td>\n",
              "      <td>1850</td>\n",
              "      <td>1840</td>\n",
              "      <td>25 Sep 2019</td>\n",
              "    </tr>\n",
              "    <tr>\n",
              "      <th>4</th>\n",
              "      <td>5</td>\n",
              "      <td>Lucknow</td>\n",
              "      <td>Banthara</td>\n",
              "      <td>Wheat</td>\n",
              "      <td>Dara</td>\n",
              "      <td>FAQ</td>\n",
              "      <td>1800</td>\n",
              "      <td>1850</td>\n",
              "      <td>1840</td>\n",
              "      <td>20 Sep 2019</td>\n",
              "    </tr>\n",
              "  </tbody>\n",
              "</table>\n",
              "</div>"
            ],
            "text/plain": [
              "   Sl no. District Name  ... Modal Price (Rs./Quintal)   Price Date\n",
              "0       1       Lucknow  ...                      1840  30 Sep 2019\n",
              "1       2       Lucknow  ...                      1840  29 Sep 2019\n",
              "2       3       Lucknow  ...                      1840  26 Sep 2019\n",
              "3       4       Lucknow  ...                      1840  25 Sep 2019\n",
              "4       5       Lucknow  ...                      1840  20 Sep 2019\n",
              "\n",
              "[5 rows x 10 columns]"
            ]
          },
          "metadata": {
            "tags": []
          },
          "execution_count": 254
        }
      ]
    },
    {
      "cell_type": "code",
      "metadata": {
        "id": "np6sE_KLxrwG",
        "colab_type": "code",
        "colab": {}
      },
      "source": [
        "features=['District Name','Commodity','Min Price (Rs./Quintal)','Max Price (Rs./Quintal)','Price Date']"
      ],
      "execution_count": 0,
      "outputs": []
    },
    {
      "cell_type": "code",
      "metadata": {
        "id": "bBsni6YtY5lX",
        "colab_type": "code",
        "colab": {}
      },
      "source": [
        "#Defining Features\n",
        "features=['District Name','Commodity','Min Price (Rs./Quintal)','Max Price (Rs./Quintal)','Price Date']\n",
        "x=data[features]\n",
        "y=data['Modal Price (Rs./Quintal)']"
      ],
      "execution_count": 0,
      "outputs": []
    },
    {
      "cell_type": "code",
      "metadata": {
        "id": "aGsvMJ2TwMNv",
        "colab_type": "code",
        "outputId": "d05ea703-43ef-4513-8479-716572c87d19",
        "colab": {
          "base_uri": "https://localhost:8080/",
          "height": 454
        }
      },
      "source": [
        "#Converting Date\n",
        "x['Price Date']=pd.to_datetime(x['Price Date'])\n",
        "from datetime import date\n",
        "x['year']=x['Price Date'].dt.year\n",
        "x['month']=x['Price Date'].dt.month\n",
        "x['day']=x['Price Date'].dt.day"
      ],
      "execution_count": 0,
      "outputs": [
        {
          "output_type": "stream",
          "text": [
            "/usr/local/lib/python3.6/dist-packages/ipykernel_launcher.py:1: SettingWithCopyWarning: \n",
            "A value is trying to be set on a copy of a slice from a DataFrame.\n",
            "Try using .loc[row_indexer,col_indexer] = value instead\n",
            "\n",
            "See the caveats in the documentation: http://pandas.pydata.org/pandas-docs/stable/indexing.html#indexing-view-versus-copy\n",
            "  \"\"\"Entry point for launching an IPython kernel.\n",
            "/usr/local/lib/python3.6/dist-packages/ipykernel_launcher.py:3: SettingWithCopyWarning: \n",
            "A value is trying to be set on a copy of a slice from a DataFrame.\n",
            "Try using .loc[row_indexer,col_indexer] = value instead\n",
            "\n",
            "See the caveats in the documentation: http://pandas.pydata.org/pandas-docs/stable/indexing.html#indexing-view-versus-copy\n",
            "  This is separate from the ipykernel package so we can avoid doing imports until\n",
            "/usr/local/lib/python3.6/dist-packages/ipykernel_launcher.py:4: SettingWithCopyWarning: \n",
            "A value is trying to be set on a copy of a slice from a DataFrame.\n",
            "Try using .loc[row_indexer,col_indexer] = value instead\n",
            "\n",
            "See the caveats in the documentation: http://pandas.pydata.org/pandas-docs/stable/indexing.html#indexing-view-versus-copy\n",
            "  after removing the cwd from sys.path.\n",
            "/usr/local/lib/python3.6/dist-packages/ipykernel_launcher.py:5: SettingWithCopyWarning: \n",
            "A value is trying to be set on a copy of a slice from a DataFrame.\n",
            "Try using .loc[row_indexer,col_indexer] = value instead\n",
            "\n",
            "See the caveats in the documentation: http://pandas.pydata.org/pandas-docs/stable/indexing.html#indexing-view-versus-copy\n",
            "  \"\"\"\n"
          ],
          "name": "stderr"
        }
      ]
    },
    {
      "cell_type": "code",
      "metadata": {
        "id": "lZ5ZKCfvflli",
        "colab_type": "code",
        "colab": {}
      },
      "source": [
        "mn=min(data['Modal Price (Rs./Quintal)'])\n",
        "mx=max(data['Modal Price (Rs./Quintal)'])"
      ],
      "execution_count": 0,
      "outputs": []
    },
    {
      "cell_type": "code",
      "metadata": {
        "id": "CrFg4EbaZ2Ih",
        "colab_type": "code",
        "outputId": "09550199-8b3d-4a40-c156-9b8b8659e107",
        "colab": {
          "base_uri": "https://localhost:8080/",
          "height": 359
        }
      },
      "source": [
        "plt.figure(figsize=(5,5))\n",
        "plt.xlabel('Years',fontsize=20)\n",
        "plt.ylabel('Price',fontsize=20)\n",
        "plt.title('Analysis')\n",
        "plt.yticks(np.arange(mn,mx))\n",
        "plt.bar(x['year'],data['Modal Price (Rs./Quintal)'], label=\"Example one\")\n",
        "plt.show()"
      ],
      "execution_count": 0,
      "outputs": [
        {
          "output_type": "display_data",
          "data": {
            "image/png": "[encoded data removed]",
            "text/plain": [
              "<Figure size 360x360 with 1 Axes>"
            ]
          },
          "metadata": {
            "tags": []
          }
        }
      ]
    },
    {
      "cell_type": "code",
      "metadata": {
        "id": "Ykxtp4JeVnBl",
        "colab_type": "code",
        "colab": {}
      },
      "source": [
        "#On Hot Encoding\n",
        "x=pd.get_dummies(x)\n",
        "var=pd.read_csv('/content/drive/My Drive/future11.csv')\n",
        "var=pd.get_dummies(var)"
      ],
      "execution_count": 0,
      "outputs": []
    },
    {
      "cell_type": "code",
      "metadata": {
        "id": "raEHY14jzFXW",
        "colab_type": "code",
        "colab": {}
      },
      "source": [
        "#Feature Engineering\n",
        "x=x.drop(['Price Date'], axis=1)\n",
        "x['Difference']=x['Max Price (Rs./Quintal)']-x['Min Price (Rs./Quintal)']\n"
      ],
      "execution_count": 0,
      "outputs": []
    },
    {
      "cell_type": "code",
      "metadata": {
        "id": "SwVbRTBKdPPm",
        "colab_type": "code",
        "colab": {}
      },
      "source": [
        "#Split dataset\n",
        "x_train,x_test,y_train,y_test=train_test_split(x,y,train_size=0.7,test_size=0.3,random_state=0)"
      ],
      "execution_count": 0,
      "outputs": []
    },
    {
      "cell_type": "code",
      "metadata": {
        "id": "VRs7VxNnfZ-t",
        "colab_type": "code",
        "outputId": "2ba0fdaa-3776-4f94-c047-6533a782c17d",
        "colab": {
          "base_uri": "https://localhost:8080/",
          "height": 228
        }
      },
      "source": [
        "#Train Dataset\n",
        "import xgboost\n",
        "model = xgboost.XGBRegressor(               \n",
        "                 learning_rate=0.07,\n",
        "                 sourcemax_depth=3,\n",
        "                 min_child_weight=1.5,\n",
        "                 n_estimators=10000,                                                                    \n",
        "                 reg_alpha=0.75,\n",
        "                 reg_lambda=0.45,\n",
        "                 subsample=0.6,\n",
        "                 seed=42) \n",
        "model.fit(x_train,y_train)"
      ],
      "execution_count": 0,
      "outputs": [
        {
          "output_type": "stream",
          "text": [
            "/usr/local/lib/python3.6/dist-packages/xgboost/core.py:587: FutureWarning: Series.base is deprecated and will be removed in a future version\n",
            "  if getattr(data, 'base', None) is not None and \\\n"
          ],
          "name": "stderr"
        },
        {
          "output_type": "stream",
          "text": [
            "[08:26:41] WARNING: /workspace/src/objective/regression_obj.cu:152: reg:linear is now deprecated in favor of reg:squarederror.\n"
          ],
          "name": "stdout"
        },
        {
          "output_type": "execute_result",
          "data": {
            "text/plain": [
              "XGBRegressor(base_score=0.5, booster='gbtree', colsample_bylevel=1,\n",
              "             colsample_bynode=1, colsample_bytree=1, gamma=0,\n",
              "             importance_type='gain', learning_rate=0.07, max_delta_step=0,\n",
              "             max_depth=3, min_child_weight=1.5, missing=None,\n",
              "             n_estimators=10000, n_jobs=1, nthread=None, objective='reg:linear',\n",
              "             random_state=0, reg_alpha=0.75, reg_lambda=0.45,\n",
              "             scale_pos_weight=1, seed=42, silent=None, subsample=0.6,\n",
              "             verbosity=1)"
            ]
          },
          "metadata": {
            "tags": []
          },
          "execution_count": 261
        }
      ]
    },
    {
      "cell_type": "markdown",
      "metadata": {
        "id": "ecj0rVuqdMPW",
        "colab_type": "text"
      },
      "source": [
        "# New Section"
      ]
    },
    {
      "cell_type": "markdown",
      "metadata": {
        "id": "a1uHxM-JdMue",
        "colab_type": "text"
      },
      "source": [
        "# New Section"
      ]
    },
    {
      "cell_type": "code",
      "metadata": {
        "id": "b4_o8-t5iKc2",
        "colab_type": "code",
        "outputId": "6bf6932b-8d09-4a9a-ddd4-3ec0862cee92",
        "colab": {
          "base_uri": "https://localhost:8080/",
          "height": 34
        }
      },
      "source": [
        "#Make Prediction\n",
        "y_predict=model.predict(x_test)\n",
        "accuracy = sklearn.metrics.r2_score(y_test, y_predict)\n",
        "print(accuracy)"
      ],
      "execution_count": 0,
      "outputs": [
        {
          "output_type": "stream",
          "text": [
            "0.9796583016636686\n"
          ],
          "name": "stdout"
        }
      ]
    },
    {
      "cell_type": "code",
      "metadata": {
        "id": "FckdyBKuizaI",
        "colab_type": "code",
        "outputId": "cc90aff4-c90b-4288-ec13-962e6ba3dfd7",
        "colab": {
          "base_uri": "https://localhost:8080/",
          "height": 121
        }
      },
      "source": [
        "y_test.head()"
      ],
      "execution_count": 0,
      "outputs": [
        {
          "output_type": "execute_result",
          "data": {
            "text/plain": [
              "26063    1400\n",
              "24937     700\n",
              "20942    1000\n",
              "37209    2050\n",
              "22932    1630\n",
              "Name: Modal Price (Rs./Quintal), dtype: int64"
            ]
          },
          "metadata": {
            "tags": []
          },
          "execution_count": 263
        }
      ]
    },
    {
      "cell_type": "code",
      "metadata": {
        "id": "botMxdTqk-0U",
        "colab_type": "code",
        "colab": {}
      },
      "source": [
        "y_predict\n",
        "pred=pd.DataFrame(y_predict)\n"
      ],
      "execution_count": 0,
      "outputs": []
    },
    {
      "cell_type": "code",
      "metadata": {
        "id": "n1WBcE3xeKBz",
        "colab_type": "code",
        "outputId": "c5364494-357f-404d-cf25-b15b4a541a76",
        "colab": {
          "base_uri": "https://localhost:8080/",
          "height": 403
        }
      },
      "source": [
        "#Predicting 2020 data\n",
        "x_data=pd.read_csv('/content/drive/My Drive/Original.csv')\n",
        "y_y_predict=model.predict(x_data)\n",
        "x.head()"
      ],
      "execution_count": 0,
      "outputs": [
        {
          "output_type": "error",
          "ename": "ValueError",
          "evalue": "ignored",
          "traceback": [
            "\u001b[0;31m---------------------------------------------------------------------------\u001b[0m",
            "\u001b[0;31mValueError\u001b[0m                                Traceback (most recent call last)",
            "\u001b[0;32m<ipython-input-273-f683ac5bbd21>\u001b[0m in \u001b[0;36m<module>\u001b[0;34m()\u001b[0m\n\u001b[1;32m      1\u001b[0m \u001b[0mx_data\u001b[0m\u001b[0;34m=\u001b[0m\u001b[0mpd\u001b[0m\u001b[0;34m.\u001b[0m\u001b[0mread_csv\u001b[0m\u001b[0;34m(\u001b[0m\u001b[0;34m'/content/drive/My Drive/Original.csv'\u001b[0m\u001b[0;34m)\u001b[0m\u001b[0;34m\u001b[0m\u001b[0;34m\u001b[0m\u001b[0m\n\u001b[1;32m      2\u001b[0m \u001b[0my_y_predict\u001b[0m\u001b[0;34m=\u001b[0m\u001b[0mmodel\u001b[0m\u001b[0;34m.\u001b[0m\u001b[0mpredict\u001b[0m\u001b[0;34m(\u001b[0m\u001b[0mx_data\u001b[0m\u001b[0;34m)\u001b[0m\u001b[0;34m\u001b[0m\u001b[0;34m\u001b[0m\u001b[0m\n\u001b[0;32m----> 3\u001b[0;31m \u001b[0my_y_predict21\u001b[0m\u001b[0;34m=\u001b[0m\u001b[0mmodel\u001b[0m\u001b[0;34m.\u001b[0m\u001b[0mpredict\u001b[0m\u001b[0;34m(\u001b[0m\u001b[0mvar\u001b[0m\u001b[0;34m)\u001b[0m\u001b[0;34m\u001b[0m\u001b[0;34m\u001b[0m\u001b[0m\n\u001b[0m\u001b[1;32m      4\u001b[0m \u001b[0mx\u001b[0m\u001b[0;34m.\u001b[0m\u001b[0mhead\u001b[0m\u001b[0;34m(\u001b[0m\u001b[0;34m)\u001b[0m\u001b[0;34m\u001b[0m\u001b[0;34m\u001b[0m\u001b[0m\n",
            "\u001b[0;32m/usr/local/lib/python3.6/dist-packages/xgboost/sklearn.py\u001b[0m in \u001b[0;36mpredict\u001b[0;34m(self, data, output_margin, ntree_limit, validate_features)\u001b[0m\n\u001b[1;32m    454\u001b[0m                                           \u001b[0moutput_margin\u001b[0m\u001b[0;34m=\u001b[0m\u001b[0moutput_margin\u001b[0m\u001b[0;34m,\u001b[0m\u001b[0;34m\u001b[0m\u001b[0;34m\u001b[0m\u001b[0m\n\u001b[1;32m    455\u001b[0m                                           \u001b[0mntree_limit\u001b[0m\u001b[0;34m=\u001b[0m\u001b[0mntree_limit\u001b[0m\u001b[0;34m,\u001b[0m\u001b[0;34m\u001b[0m\u001b[0;34m\u001b[0m\u001b[0m\n\u001b[0;32m--> 456\u001b[0;31m                                           validate_features=validate_features)\n\u001b[0m\u001b[1;32m    457\u001b[0m \u001b[0;34m\u001b[0m\u001b[0m\n\u001b[1;32m    458\u001b[0m     \u001b[0;32mdef\u001b[0m \u001b[0mapply\u001b[0m\u001b[0;34m(\u001b[0m\u001b[0mself\u001b[0m\u001b[0;34m,\u001b[0m \u001b[0mX\u001b[0m\u001b[0;34m,\u001b[0m \u001b[0mntree_limit\u001b[0m\u001b[0;34m=\u001b[0m\u001b[0;36m0\u001b[0m\u001b[0;34m)\u001b[0m\u001b[0;34m:\u001b[0m\u001b[0;34m\u001b[0m\u001b[0;34m\u001b[0m\u001b[0m\n",
            "\u001b[0;32m/usr/local/lib/python3.6/dist-packages/xgboost/core.py\u001b[0m in \u001b[0;36mpredict\u001b[0;34m(self, data, output_margin, ntree_limit, pred_leaf, pred_contribs, approx_contribs, pred_interactions, validate_features)\u001b[0m\n\u001b[1;32m   1282\u001b[0m \u001b[0;34m\u001b[0m\u001b[0m\n\u001b[1;32m   1283\u001b[0m         \u001b[0;32mif\u001b[0m \u001b[0mvalidate_features\u001b[0m\u001b[0;34m:\u001b[0m\u001b[0;34m\u001b[0m\u001b[0;34m\u001b[0m\u001b[0m\n\u001b[0;32m-> 1284\u001b[0;31m             \u001b[0mself\u001b[0m\u001b[0;34m.\u001b[0m\u001b[0m_validate_features\u001b[0m\u001b[0;34m(\u001b[0m\u001b[0mdata\u001b[0m\u001b[0;34m)\u001b[0m\u001b[0;34m\u001b[0m\u001b[0;34m\u001b[0m\u001b[0m\n\u001b[0m\u001b[1;32m   1285\u001b[0m \u001b[0;34m\u001b[0m\u001b[0m\n\u001b[1;32m   1286\u001b[0m         \u001b[0mlength\u001b[0m \u001b[0;34m=\u001b[0m \u001b[0mc_bst_ulong\u001b[0m\u001b[0;34m(\u001b[0m\u001b[0;34m)\u001b[0m\u001b[0;34m\u001b[0m\u001b[0;34m\u001b[0m\u001b[0m\n",
            "\u001b[0;32m/usr/local/lib/python3.6/dist-packages/xgboost/core.py\u001b[0m in \u001b[0;36m_validate_features\u001b[0;34m(self, data)\u001b[0m\n\u001b[1;32m   1688\u001b[0m \u001b[0;34m\u001b[0m\u001b[0m\n\u001b[1;32m   1689\u001b[0m                 raise ValueError(msg.format(self.feature_names,\n\u001b[0;32m-> 1690\u001b[0;31m                                             data.feature_names))\n\u001b[0m\u001b[1;32m   1691\u001b[0m \u001b[0;34m\u001b[0m\u001b[0m\n\u001b[1;32m   1692\u001b[0m     \u001b[0;32mdef\u001b[0m \u001b[0mget_split_value_histogram\u001b[0m\u001b[0;34m(\u001b[0m\u001b[0mself\u001b[0m\u001b[0;34m,\u001b[0m \u001b[0mfeature\u001b[0m\u001b[0;34m,\u001b[0m \u001b[0mfmap\u001b[0m\u001b[0;34m=\u001b[0m\u001b[0;34m''\u001b[0m\u001b[0;34m,\u001b[0m \u001b[0mbins\u001b[0m\u001b[0;34m=\u001b[0m\u001b[0;32mNone\u001b[0m\u001b[0;34m,\u001b[0m \u001b[0mas_pandas\u001b[0m\u001b[0;34m=\u001b[0m\u001b[0;32mTrue\u001b[0m\u001b[0;34m)\u001b[0m\u001b[0;34m:\u001b[0m\u001b[0;34m\u001b[0m\u001b[0;34m\u001b[0m\u001b[0m\n",
            "\u001b[0;31mValueError\u001b[0m: feature_names mismatch: ['Min Price (Rs./Quintal)', 'Max Price (Rs./Quintal)', 'year', 'month', 'day', 'District Name_Amritsar', 'District Name_Bangalore', 'District Name_Bhopal', 'District Name_Indore', 'District Name_Jalandhar', 'District Name_Kanpur', 'District Name_Lucknow', 'District Name_Mysore', 'Commodity_Ginger(Dry)', 'Commodity_Onion', 'Commodity_Wheat', 'Difference'] ['Unnamed: 0', 'Min Price (Rs./Quintal)', 'Max Price (Rs./Quintal)', 'year', 'month', 'day', 'District Name_Amritsar', 'District Name_Bangalore', 'District Name_Bhopal', 'District Name_Indore', 'District Name_Jalandhar', 'District Name_Kanpur', 'District Name_Lucknow', 'District Name_Mysore', 'Commodity_Ginger(Dry)', 'Commodity_Onion', 'Commodity_Wheat', 'Difference', 'Diffence']\ntraining data did not have the following fields: Diffence, Unnamed: 0"
          ]
        }
      ]
    },
    {
      "cell_type": "code",
      "metadata": {
        "id": "XCG_nEAWhM1L",
        "colab_type": "code",
        "colab": {}
      },
      "source": [
        "x_20=pd.read_csv('/content/drive/My Drive/Original.csv')\n",
        "yes=pd.read_csv('/content/drive/My Drive/Harsh2.csv')\n",
        "feat=['year','month']\n",
        "x_20=x_20[feat]\n",
        "x_20['District Name']=yes['District Name']\n",
        "x_20['Commodity']=yes['Commodity']\n",
        "x_20['Predicted']=y_y_predict[:]\n",
        "# x_20.to_csv('x_20.csv')"
      ],
      "execution_count": 0,
      "outputs": []
    },
    {
      "cell_type": "code",
      "metadata": {
        "id": "6K6784rdhOs8",
        "colab_type": "code",
        "outputId": "076cb22d-6bc9-487c-baa3-2cb078cb3c7f",
        "colab": {
          "base_uri": "https://localhost:8080/",
          "height": 220
        }
      },
      "source": [
        "x_21=pd.read_csv('/content/drive/My Drive/Original.csv')\n",
        "yes=pd.read_csv('/content/drive/My Drive/Harsh2.csv')\n",
        "feat=['year','month']\n",
        "x_21=x_21[feat]\n",
        "x_21['District Name']=yes['District Name']\n",
        "x_21['Commodity']=yes['Commodity']\n",
        "x_21['Predicted']=y_y_predict21[:]\n",
        "# x_21.to_csv('x_20.csv')"
      ],
      "execution_count": 0,
      "outputs": [
        {
          "output_type": "error",
          "ename": "NameError",
          "evalue": "ignored",
          "traceback": [
            "\u001b[0;31m---------------------------------------------------------------------------\u001b[0m",
            "\u001b[0;31mNameError\u001b[0m                                 Traceback (most recent call last)",
            "\u001b[0;32m<ipython-input-270-fa6b8d679983>\u001b[0m in \u001b[0;36m<module>\u001b[0;34m()\u001b[0m\n\u001b[1;32m      5\u001b[0m \u001b[0mx_21\u001b[0m\u001b[0;34m[\u001b[0m\u001b[0;34m'District Name'\u001b[0m\u001b[0;34m]\u001b[0m\u001b[0;34m=\u001b[0m\u001b[0myes\u001b[0m\u001b[0;34m[\u001b[0m\u001b[0;34m'District Name'\u001b[0m\u001b[0;34m]\u001b[0m\u001b[0;34m\u001b[0m\u001b[0;34m\u001b[0m\u001b[0m\n\u001b[1;32m      6\u001b[0m \u001b[0mx_21\u001b[0m\u001b[0;34m[\u001b[0m\u001b[0;34m'Commodity'\u001b[0m\u001b[0;34m]\u001b[0m\u001b[0;34m=\u001b[0m\u001b[0myes\u001b[0m\u001b[0;34m[\u001b[0m\u001b[0;34m'Commodity'\u001b[0m\u001b[0;34m]\u001b[0m\u001b[0;34m\u001b[0m\u001b[0;34m\u001b[0m\u001b[0m\n\u001b[0;32m----> 7\u001b[0;31m \u001b[0mx_21\u001b[0m\u001b[0;34m[\u001b[0m\u001b[0;34m'Predicted'\u001b[0m\u001b[0;34m]\u001b[0m\u001b[0;34m=\u001b[0m\u001b[0my_y_predict21\u001b[0m\u001b[0;34m[\u001b[0m\u001b[0;34m:\u001b[0m\u001b[0;34m]\u001b[0m\u001b[0;34m\u001b[0m\u001b[0;34m\u001b[0m\u001b[0m\n\u001b[0m\u001b[1;32m      8\u001b[0m \u001b[0;31m# x_21.to_csv('x_20.csv')\u001b[0m\u001b[0;34m\u001b[0m\u001b[0;34m\u001b[0m\u001b[0;34m\u001b[0m\u001b[0m\n",
            "\u001b[0;31mNameError\u001b[0m: name 'y_y_predict21' is not defined"
          ]
        }
      ]
    },
    {
      "cell_type": "code",
      "metadata": {
        "id": "4WkLXr1WtTBl",
        "colab_type": "code",
        "colab": {}
      },
      "source": [
        ""
      ],
      "execution_count": 0,
      "outputs": []
    },
    {
      "cell_type": "code",
      "metadata": {
        "id": "P_5V_W_vvEFq",
        "colab_type": "code",
        "colab": {}
      },
      "source": [
        ""
      ],
      "execution_count": 0,
      "outputs": []
    },
    {
      "cell_type": "code",
      "metadata": {
        "id": "JiGkg9qnvKF-",
        "colab_type": "code",
        "colab": {}
      },
      "source": [
        "data_x=data[data['Commodity']==\"Indore\"]"
      ],
      "execution_count": 0,
      "outputs": []
    },
    {
      "cell_type": "code",
      "metadata": {
        "id": "17104x8hrtXk",
        "colab_type": "code",
        "outputId": "060edeb6-8fa5-4e30-d2e7-aa24b5fb3a73",
        "colab": {
          "base_uri": "https://localhost:8080/",
          "height": 397
        }
      },
      "source": [
        "data.head()"
      ],
      "execution_count": 0,
      "outputs": [
        {
          "output_type": "execute_result",
          "data": {
            "text/html": [
              "<div>\n",
              "<style scoped>\n",
              "    .dataframe tbody tr th:only-of-type {\n",
              "        vertical-align: middle;\n",
              "    }\n",
              "\n",
              "    .dataframe tbody tr th {\n",
              "        vertical-align: top;\n",
              "    }\n",
              "\n",
              "    .dataframe thead th {\n",
              "        text-align: right;\n",
              "    }\n",
              "</style>\n",
              "<table border=\"1\" class=\"dataframe\">\n",
              "  <thead>\n",
              "    <tr style=\"text-align: right;\">\n",
              "      <th></th>\n",
              "      <th>Sl no.</th>\n",
              "      <th>District Name</th>\n",
              "      <th>Market Name</th>\n",
              "      <th>Commodity</th>\n",
              "      <th>Variety</th>\n",
              "      <th>Grade</th>\n",
              "      <th>Min Price (Rs./Quintal)</th>\n",
              "      <th>Max Price (Rs./Quintal)</th>\n",
              "      <th>Modal Price (Rs./Quintal)</th>\n",
              "      <th>Price Date</th>\n",
              "    </tr>\n",
              "  </thead>\n",
              "  <tbody>\n",
              "    <tr>\n",
              "      <th>0</th>\n",
              "      <td>1</td>\n",
              "      <td>Lucknow</td>\n",
              "      <td>Banthara</td>\n",
              "      <td>Wheat</td>\n",
              "      <td>Dara</td>\n",
              "      <td>FAQ</td>\n",
              "      <td>1800</td>\n",
              "      <td>1850</td>\n",
              "      <td>1840</td>\n",
              "      <td>30 Sep 2019</td>\n",
              "    </tr>\n",
              "    <tr>\n",
              "      <th>1</th>\n",
              "      <td>2</td>\n",
              "      <td>Lucknow</td>\n",
              "      <td>Banthara</td>\n",
              "      <td>Wheat</td>\n",
              "      <td>Dara</td>\n",
              "      <td>FAQ</td>\n",
              "      <td>1800</td>\n",
              "      <td>1850</td>\n",
              "      <td>1840</td>\n",
              "      <td>29 Sep 2019</td>\n",
              "    </tr>\n",
              "    <tr>\n",
              "      <th>2</th>\n",
              "      <td>3</td>\n",
              "      <td>Lucknow</td>\n",
              "      <td>Banthara</td>\n",
              "      <td>Wheat</td>\n",
              "      <td>Dara</td>\n",
              "      <td>FAQ</td>\n",
              "      <td>1800</td>\n",
              "      <td>1850</td>\n",
              "      <td>1840</td>\n",
              "      <td>26 Sep 2019</td>\n",
              "    </tr>\n",
              "    <tr>\n",
              "      <th>3</th>\n",
              "      <td>4</td>\n",
              "      <td>Lucknow</td>\n",
              "      <td>Banthara</td>\n",
              "      <td>Wheat</td>\n",
              "      <td>Dara</td>\n",
              "      <td>FAQ</td>\n",
              "      <td>1800</td>\n",
              "      <td>1850</td>\n",
              "      <td>1840</td>\n",
              "      <td>25 Sep 2019</td>\n",
              "    </tr>\n",
              "    <tr>\n",
              "      <th>4</th>\n",
              "      <td>5</td>\n",
              "      <td>Lucknow</td>\n",
              "      <td>Banthara</td>\n",
              "      <td>Wheat</td>\n",
              "      <td>Dara</td>\n",
              "      <td>FAQ</td>\n",
              "      <td>1800</td>\n",
              "      <td>1850</td>\n",
              "      <td>1840</td>\n",
              "      <td>20 Sep 2019</td>\n",
              "    </tr>\n",
              "  </tbody>\n",
              "</table>\n",
              "</div>"
            ],
            "text/plain": [
              "   Sl no. District Name  ... Modal Price (Rs./Quintal)   Price Date\n",
              "0       1       Lucknow  ...                      1840  30 Sep 2019\n",
              "1       2       Lucknow  ...                      1840  29 Sep 2019\n",
              "2       3       Lucknow  ...                      1840  26 Sep 2019\n",
              "3       4       Lucknow  ...                      1840  25 Sep 2019\n",
              "4       5       Lucknow  ...                      1840  20 Sep 2019\n",
              "\n",
              "[5 rows x 10 columns]"
            ]
          },
          "metadata": {
            "tags": []
          },
          "execution_count": 194
        }
      ]
    },
    {
      "cell_type": "code",
      "metadata": {
        "id": "hdPS-YmgvnBs",
        "colab_type": "code",
        "colab": {}
      },
      "source": [
        ""
      ],
      "execution_count": 0,
      "outputs": []
    }
  ]
}